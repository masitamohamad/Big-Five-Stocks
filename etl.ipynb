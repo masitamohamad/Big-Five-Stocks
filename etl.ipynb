{
 "cells": [
  {
   "cell_type": "code",
   "execution_count": 14,
   "metadata": {},
   "outputs": [],
   "source": [
    "import pandas as pd\n",
    "import datetime as dt\n",
    "import numpy as np"
   ]
  },
  {
   "cell_type": "code",
   "execution_count": 15,
   "metadata": {},
   "outputs": [],
   "source": [
    "path = 'C:/Users/jakec/Documents/DataAnalyticsBootCamp/Project/Big-Five-Stocks/Resources/'\n",
    "\n",
    "raw_stock_data = pd.read_csv(f'{path}big_five_stocks.csv')\n",
    "\n",
    "raw_company_data = pd.read_csv(f'{path}company_data.csv',encoding='iso-8859-1')"
   ]
  },
  {
   "cell_type": "code",
   "execution_count": 16,
   "metadata": {},
   "outputs": [],
   "source": [
    "raw_stock_data.columns = ['date','name','open','close','high','low','volume']\n",
    "# or could do the following:\n",
    "#raw_data.rename(columns={'Unnamed: 0':'date'},inplace=TRUE)"
   ]
  },
  {
   "cell_type": "code",
   "execution_count": 17,
   "metadata": {},
   "outputs": [],
   "source": [
    "raw_stock_data['date'] = pd.to_datetime(raw_stock_data['date'])\n",
    "\n",
    "raw_company_data['founded'] = pd.to_datetime(raw_company_data['founded'])"
   ]
  },
  {
   "cell_type": "code",
   "execution_count": 18,
   "metadata": {},
   "outputs": [],
   "source": [
    "companies = raw_company_data\n",
    "companies = companies.reset_index()\n",
    "companies['company'] = companies['index']\n",
    "companies = companies.drop(labels=['company_name','index'],axis=1)"
   ]
  },
  {
   "cell_type": "code",
   "execution_count": 19,
   "metadata": {},
   "outputs": [],
   "source": [
    "raw_stock_data['year'] = pd.DatetimeIndex(raw_stock_data['date']).year"
   ]
  },
  {
   "cell_type": "code",
   "execution_count": 20,
   "metadata": {},
   "outputs": [],
   "source": [
    "raw_stock_data = raw_stock_data.set_index('date')\n",
    "\n",
    "raw_company_data = raw_company_data.set_index('index')"
   ]
  },
  {
   "cell_type": "code",
   "execution_count": 21,
   "metadata": {},
   "outputs": [],
   "source": [
    "#start_date = '1/1/2015'\n",
    "stonks = raw_stock_data.loc['2015-01-01':'2019-08-23']"
   ]
  },
  {
   "cell_type": "code",
   "execution_count": 22,
   "metadata": {},
   "outputs": [],
   "source": [
    "stonks = stonks.reset_index()"
   ]
  },
  {
   "cell_type": "code",
   "execution_count": 23,
   "metadata": {},
   "outputs": [],
   "source": [
    "#stonks.insert(loc=0,column='index',value=np.arange(len(stonks)))"
   ]
  },
  {
   "cell_type": "code",
   "execution_count": 24,
   "metadata": {},
   "outputs": [
    {
     "output_type": "execute_result",
     "data": {
      "text/plain": "False"
     },
     "metadata": {},
     "execution_count": 24
    }
   ],
   "source": [
    "stonks.isnull().values.any()"
   ]
  },
  {
   "cell_type": "code",
   "execution_count": 25,
   "metadata": {},
   "outputs": [],
   "source": [
    "amzn = stonks.loc[stonks['name']=='AMZN',]\n",
    "#amzn = amzn.drop(labels=['name','index'],axis=1)\n",
    "amzn = amzn.drop(labels=['name'],axis=1)\n",
    "\n",
    "fb = stonks.loc[stonks['name']=='FB',]\n",
    "#fb = fb.drop(labels=['name','index'],axis=1)\n",
    "fb = fb.drop(labels=['name'],axis=1)\n",
    "\n",
    "ixic = stonks.loc[stonks['name']=='^IXIC',]\n",
    "#ixic = ixic.drop(labels=['name','index'],axis=1)\n",
    "ixic = ixic.drop(labels=['name'],axis=1)\n",
    "\n",
    "googl = stonks.loc[stonks['name']=='GOOGL',]\n",
    "#googl = googl.drop(labels=['name','index'],axis=1)\n",
    "googl = googl.drop(labels=['name'],axis=1)\n",
    "\n",
    "msft = stonks.loc[stonks['name']=='MSFT',]\n",
    "#msft = msft.drop(labels=['name','index'],axis=1)\n",
    "msft = msft.drop(labels=['name'],axis=1)\n",
    "\n",
    "aapl = stonks.loc[stonks['name']=='AAPL',]\n",
    "#aapl = aapl.drop(labels=['name','index'],axis=1)\n",
    "aapl = aapl.drop(labels=['name'],axis=1)\n",
    "\n",
    "year15 = stonks.loc[stonks['year']==2015,]\n",
    "year15 = year15.drop(labels='year',axis=1)\n",
    "\n",
    "year16 = stonks.loc[stonks['year']==2016,]\n",
    "#year16 = year16.drop(labels=['year','index'],axis=1)\n",
    "year16 = year16.drop(labels=['year'],axis=1)\n",
    "#year16.insert(loc=0,column='index',value=np.arange(len(year16)))\n",
    "\n",
    "year17 = stonks.loc[stonks['year']==2017,]\n",
    "#year17 = year17.drop(labels=['year','index'],axis=1)\n",
    "year17 = year17.drop(labels=['year'],axis=1)\n",
    "#year17.insert(loc=0,column='index',value=np.arange(len(year17)))\n",
    "\n",
    "year18 = stonks.loc[stonks['year']==2018,]\n",
    "year18 = year18.drop(labels=['year'],axis=1)\n",
    "#year18.insert(loc=0,column='index',value=np.arange(len(year18)))\n",
    "\n",
    "year19 = stonks.loc[stonks['year']==2019,]\n",
    "year19 = year19.drop(labels=['year'],axis=1)\n",
    "#year19.insert(loc=0,column='index',value=np.arange(len(year19)))"
   ]
  },
  {
   "cell_type": "code",
   "execution_count": 26,
   "metadata": {},
   "outputs": [],
   "source": [
    "stonks['name_date'] = stonks['name'].astype(str) + stonks['date'].astype(str)\n",
    "year15['name_date'] = year15['name'].astype(str) + year15['date'].astype(str)\n",
    "year16['name_date'] = year16['name'].astype(str) + year16['date'].astype(str)\n",
    "year17['name_date'] = year17['name'].astype(str) + year17['date'].astype(str)\n",
    "year18['name_date'] = year18['name'].astype(str) + year18['date'].astype(str)\n",
    "year19['name_date'] = year19['name'].astype(str) + year19['date'].astype(str)"
   ]
  },
  {
   "cell_type": "code",
   "execution_count": 27,
   "metadata": {},
   "outputs": [
    {
     "output_type": "execute_result",
     "data": {
      "text/plain": "        date   name     open    close     high      low    volume  year  \\\n0 2015-01-02   AMZN   312.50   308.52   314.75   306.96   2788101  2015   \n1 2015-01-02     FB    78.58    78.45    78.93    77.70  18177475  2015   \n2 2015-01-02  ^IXIC  4760.24  4726.81  4777.01  4698.11         0  2015   \n3 2015-01-02  GOOGL   532.60   529.55   535.80   527.88   1327870  2015   \n4 2015-01-02   MSFT    46.66    46.76    47.42    46.54  27913852  2015   \n\n         name_date  \n0   AMZN2015-01-02  \n1     FB2015-01-02  \n2  ^IXIC2015-01-02  \n3  GOOGL2015-01-02  \n4   MSFT2015-01-02  ",
      "text/html": "<div>\n<style scoped>\n    .dataframe tbody tr th:only-of-type {\n        vertical-align: middle;\n    }\n\n    .dataframe tbody tr th {\n        vertical-align: top;\n    }\n\n    .dataframe thead th {\n        text-align: right;\n    }\n</style>\n<table border=\"1\" class=\"dataframe\">\n  <thead>\n    <tr style=\"text-align: right;\">\n      <th></th>\n      <th>date</th>\n      <th>name</th>\n      <th>open</th>\n      <th>close</th>\n      <th>high</th>\n      <th>low</th>\n      <th>volume</th>\n      <th>year</th>\n      <th>name_date</th>\n    </tr>\n  </thead>\n  <tbody>\n    <tr>\n      <td>0</td>\n      <td>2015-01-02</td>\n      <td>AMZN</td>\n      <td>312.50</td>\n      <td>308.52</td>\n      <td>314.75</td>\n      <td>306.96</td>\n      <td>2788101</td>\n      <td>2015</td>\n      <td>AMZN2015-01-02</td>\n    </tr>\n    <tr>\n      <td>1</td>\n      <td>2015-01-02</td>\n      <td>FB</td>\n      <td>78.58</td>\n      <td>78.45</td>\n      <td>78.93</td>\n      <td>77.70</td>\n      <td>18177475</td>\n      <td>2015</td>\n      <td>FB2015-01-02</td>\n    </tr>\n    <tr>\n      <td>2</td>\n      <td>2015-01-02</td>\n      <td>^IXIC</td>\n      <td>4760.24</td>\n      <td>4726.81</td>\n      <td>4777.01</td>\n      <td>4698.11</td>\n      <td>0</td>\n      <td>2015</td>\n      <td>^IXIC2015-01-02</td>\n    </tr>\n    <tr>\n      <td>3</td>\n      <td>2015-01-02</td>\n      <td>GOOGL</td>\n      <td>532.60</td>\n      <td>529.55</td>\n      <td>535.80</td>\n      <td>527.88</td>\n      <td>1327870</td>\n      <td>2015</td>\n      <td>GOOGL2015-01-02</td>\n    </tr>\n    <tr>\n      <td>4</td>\n      <td>2015-01-02</td>\n      <td>MSFT</td>\n      <td>46.66</td>\n      <td>46.76</td>\n      <td>47.42</td>\n      <td>46.54</td>\n      <td>27913852</td>\n      <td>2015</td>\n      <td>MSFT2015-01-02</td>\n    </tr>\n  </tbody>\n</table>\n</div>"
     },
     "metadata": {},
     "execution_count": 27
    }
   ],
   "source": [
    "stonks.head()"
   ]
  },
  {
   "cell_type": "code",
   "execution_count": 28,
   "metadata": {},
   "outputs": [
    {
     "output_type": "execute_result",
     "data": {
      "text/plain": "         date    open   close    high     low   volume  year\n0  2015-01-02  312.50  308.52  314.75  306.96  2788101  2015\n9  2015-01-05  307.02  302.19  308.38  300.85  2774231  2015\n15 2015-01-06  302.20  295.29  303.00  292.38  3519034  2015\n21 2015-01-07  297.54  298.42  301.28  295.33  2640349  2015\n26 2015-01-08  300.59  300.46  303.14  296.11  3088398  2015",
      "text/html": "<div>\n<style scoped>\n    .dataframe tbody tr th:only-of-type {\n        vertical-align: middle;\n    }\n\n    .dataframe tbody tr th {\n        vertical-align: top;\n    }\n\n    .dataframe thead th {\n        text-align: right;\n    }\n</style>\n<table border=\"1\" class=\"dataframe\">\n  <thead>\n    <tr style=\"text-align: right;\">\n      <th></th>\n      <th>date</th>\n      <th>open</th>\n      <th>close</th>\n      <th>high</th>\n      <th>low</th>\n      <th>volume</th>\n      <th>year</th>\n    </tr>\n  </thead>\n  <tbody>\n    <tr>\n      <td>0</td>\n      <td>2015-01-02</td>\n      <td>312.50</td>\n      <td>308.52</td>\n      <td>314.75</td>\n      <td>306.96</td>\n      <td>2788101</td>\n      <td>2015</td>\n    </tr>\n    <tr>\n      <td>9</td>\n      <td>2015-01-05</td>\n      <td>307.02</td>\n      <td>302.19</td>\n      <td>308.38</td>\n      <td>300.85</td>\n      <td>2774231</td>\n      <td>2015</td>\n    </tr>\n    <tr>\n      <td>15</td>\n      <td>2015-01-06</td>\n      <td>302.20</td>\n      <td>295.29</td>\n      <td>303.00</td>\n      <td>292.38</td>\n      <td>3519034</td>\n      <td>2015</td>\n    </tr>\n    <tr>\n      <td>21</td>\n      <td>2015-01-07</td>\n      <td>297.54</td>\n      <td>298.42</td>\n      <td>301.28</td>\n      <td>295.33</td>\n      <td>2640349</td>\n      <td>2015</td>\n    </tr>\n    <tr>\n      <td>26</td>\n      <td>2015-01-08</td>\n      <td>300.59</td>\n      <td>300.46</td>\n      <td>303.14</td>\n      <td>296.11</td>\n      <td>3088398</td>\n      <td>2015</td>\n    </tr>\n  </tbody>\n</table>\n</div>"
     },
     "metadata": {},
     "execution_count": 28
    }
   ],
   "source": [
    "amzn.head()"
   ]
  },
  {
   "cell_type": "code",
   "execution_count": 29,
   "metadata": {},
   "outputs": [
    {
     "output_type": "execute_result",
     "data": {
      "text/plain": "        date   name     open    close     high      low    volume  \\\n0 2015-01-02   AMZN   312.50   308.52   314.75   306.96   2788101   \n1 2015-01-02     FB    78.58    78.45    78.93    77.70  18177475   \n2 2015-01-02  ^IXIC  4760.24  4726.81  4777.01  4698.11         0   \n3 2015-01-02  GOOGL   532.60   529.55   535.80   527.88   1327870   \n4 2015-01-02   MSFT    46.66    46.76    47.42    46.54  27913852   \n\n         name_date  \n0   AMZN2015-01-02  \n1     FB2015-01-02  \n2  ^IXIC2015-01-02  \n3  GOOGL2015-01-02  \n4   MSFT2015-01-02  ",
      "text/html": "<div>\n<style scoped>\n    .dataframe tbody tr th:only-of-type {\n        vertical-align: middle;\n    }\n\n    .dataframe tbody tr th {\n        vertical-align: top;\n    }\n\n    .dataframe thead th {\n        text-align: right;\n    }\n</style>\n<table border=\"1\" class=\"dataframe\">\n  <thead>\n    <tr style=\"text-align: right;\">\n      <th></th>\n      <th>date</th>\n      <th>name</th>\n      <th>open</th>\n      <th>close</th>\n      <th>high</th>\n      <th>low</th>\n      <th>volume</th>\n      <th>name_date</th>\n    </tr>\n  </thead>\n  <tbody>\n    <tr>\n      <td>0</td>\n      <td>2015-01-02</td>\n      <td>AMZN</td>\n      <td>312.50</td>\n      <td>308.52</td>\n      <td>314.75</td>\n      <td>306.96</td>\n      <td>2788101</td>\n      <td>AMZN2015-01-02</td>\n    </tr>\n    <tr>\n      <td>1</td>\n      <td>2015-01-02</td>\n      <td>FB</td>\n      <td>78.58</td>\n      <td>78.45</td>\n      <td>78.93</td>\n      <td>77.70</td>\n      <td>18177475</td>\n      <td>FB2015-01-02</td>\n    </tr>\n    <tr>\n      <td>2</td>\n      <td>2015-01-02</td>\n      <td>^IXIC</td>\n      <td>4760.24</td>\n      <td>4726.81</td>\n      <td>4777.01</td>\n      <td>4698.11</td>\n      <td>0</td>\n      <td>^IXIC2015-01-02</td>\n    </tr>\n    <tr>\n      <td>3</td>\n      <td>2015-01-02</td>\n      <td>GOOGL</td>\n      <td>532.60</td>\n      <td>529.55</td>\n      <td>535.80</td>\n      <td>527.88</td>\n      <td>1327870</td>\n      <td>GOOGL2015-01-02</td>\n    </tr>\n    <tr>\n      <td>4</td>\n      <td>2015-01-02</td>\n      <td>MSFT</td>\n      <td>46.66</td>\n      <td>46.76</td>\n      <td>47.42</td>\n      <td>46.54</td>\n      <td>27913852</td>\n      <td>MSFT2015-01-02</td>\n    </tr>\n  </tbody>\n</table>\n</div>"
     },
     "metadata": {},
     "execution_count": 29
    }
   ],
   "source": [
    "year15.head()"
   ]
  },
  {
   "cell_type": "code",
   "execution_count": 30,
   "metadata": {},
   "outputs": [
    {
     "output_type": "execute_result",
     "data": {
      "text/plain": "           date   name     open    close     high      low    volume name_date\n1512 2016-01-04   AAPL   102.61   105.35   105.37   102.00  67649387       NaN\n1513 2016-01-04   MSFT    54.32    54.80    54.80    53.39  53777963       NaN\n1514 2016-01-04   AMZN   656.29   636.99   657.72   627.51   9314519       NaN\n1515 2016-01-04  GOOGL   762.20   759.44   762.20   747.54   3369068       NaN\n1516 2016-01-04  ^IXIC  4897.65  4903.09  4903.09  4846.98         0       NaN",
      "text/html": "<div>\n<style scoped>\n    .dataframe tbody tr th:only-of-type {\n        vertical-align: middle;\n    }\n\n    .dataframe tbody tr th {\n        vertical-align: top;\n    }\n\n    .dataframe thead th {\n        text-align: right;\n    }\n</style>\n<table border=\"1\" class=\"dataframe\">\n  <thead>\n    <tr style=\"text-align: right;\">\n      <th></th>\n      <th>date</th>\n      <th>name</th>\n      <th>open</th>\n      <th>close</th>\n      <th>high</th>\n      <th>low</th>\n      <th>volume</th>\n      <th>name_date</th>\n    </tr>\n  </thead>\n  <tbody>\n    <tr>\n      <td>1512</td>\n      <td>2016-01-04</td>\n      <td>AAPL</td>\n      <td>102.61</td>\n      <td>105.35</td>\n      <td>105.37</td>\n      <td>102.00</td>\n      <td>67649387</td>\n      <td>NaN</td>\n    </tr>\n    <tr>\n      <td>1513</td>\n      <td>2016-01-04</td>\n      <td>MSFT</td>\n      <td>54.32</td>\n      <td>54.80</td>\n      <td>54.80</td>\n      <td>53.39</td>\n      <td>53777963</td>\n      <td>NaN</td>\n    </tr>\n    <tr>\n      <td>1514</td>\n      <td>2016-01-04</td>\n      <td>AMZN</td>\n      <td>656.29</td>\n      <td>636.99</td>\n      <td>657.72</td>\n      <td>627.51</td>\n      <td>9314519</td>\n      <td>NaN</td>\n    </tr>\n    <tr>\n      <td>1515</td>\n      <td>2016-01-04</td>\n      <td>GOOGL</td>\n      <td>762.20</td>\n      <td>759.44</td>\n      <td>762.20</td>\n      <td>747.54</td>\n      <td>3369068</td>\n      <td>NaN</td>\n    </tr>\n    <tr>\n      <td>1516</td>\n      <td>2016-01-04</td>\n      <td>^IXIC</td>\n      <td>4897.65</td>\n      <td>4903.09</td>\n      <td>4903.09</td>\n      <td>4846.98</td>\n      <td>0</td>\n      <td>NaN</td>\n    </tr>\n  </tbody>\n</table>\n</div>"
     },
     "metadata": {},
     "execution_count": 30
    }
   ],
   "source": [
    "year16.head()"
   ]
  },
  {
   "cell_type": "code",
   "execution_count": 31,
   "metadata": {},
   "outputs": [],
   "source": [
    "# Create the aggregate dataframe\n",
    "agg_stonks = stonks.groupby(['name','year']).agg({'open':'mean','close':'mean','high':'mean','low':'mean','volume':'sum'})\n",
    "#agg_stonks\n",
    "agg_stonks = agg_stonks.reset_index()\n",
    "agg_stonks['name_year'] = agg_stonks['name'].astype(str) + agg_stonks['year'].astype(str)\n",
    "#agg_stonks = agg_stonks.drop(labels=['name','year'],axis=1)"
   ]
  },
  {
   "cell_type": "code",
   "execution_count": 32,
   "metadata": {},
   "outputs": [],
   "source": [
    "agg_stonks[['open','close','high','low']] = agg_stonks[['open','close','high','low']].round(decimals=2)"
   ]
  },
  {
   "cell_type": "code",
   "execution_count": 33,
   "metadata": {},
   "outputs": [],
   "source": [
    "agg_stonks.columns = ['name','year','avg_open','avg_close','avg_high','avg_low','total_volume','name_year']"
   ]
  },
  {
   "cell_type": "code",
   "execution_count": 34,
   "metadata": {},
   "outputs": [
    {
     "output_type": "execute_result",
     "data": {
      "text/plain": "   name  year  avg_open  avg_close  avg_high  avg_low  total_volume name_year\n0  AAPL  2015    120.17     120.04    121.24   118.86   13068421452  AAPL2015\n1  AAPL  2016    104.51     104.60    105.43   103.69    9666725519  AAPL2016\n2  AAPL  2017    150.45     150.55    151.41   149.49    6811557331  AAPL2017\n3  AAPL  2018    189.11     189.05    191.00   187.19    8523558839  AAPL2018\n4  AAPL  2019    187.56     187.84    189.52   186.03    4759795987  AAPL2019",
      "text/html": "<div>\n<style scoped>\n    .dataframe tbody tr th:only-of-type {\n        vertical-align: middle;\n    }\n\n    .dataframe tbody tr th {\n        vertical-align: top;\n    }\n\n    .dataframe thead th {\n        text-align: right;\n    }\n</style>\n<table border=\"1\" class=\"dataframe\">\n  <thead>\n    <tr style=\"text-align: right;\">\n      <th></th>\n      <th>name</th>\n      <th>year</th>\n      <th>avg_open</th>\n      <th>avg_close</th>\n      <th>avg_high</th>\n      <th>avg_low</th>\n      <th>total_volume</th>\n      <th>name_year</th>\n    </tr>\n  </thead>\n  <tbody>\n    <tr>\n      <td>0</td>\n      <td>AAPL</td>\n      <td>2015</td>\n      <td>120.17</td>\n      <td>120.04</td>\n      <td>121.24</td>\n      <td>118.86</td>\n      <td>13068421452</td>\n      <td>AAPL2015</td>\n    </tr>\n    <tr>\n      <td>1</td>\n      <td>AAPL</td>\n      <td>2016</td>\n      <td>104.51</td>\n      <td>104.60</td>\n      <td>105.43</td>\n      <td>103.69</td>\n      <td>9666725519</td>\n      <td>AAPL2016</td>\n    </tr>\n    <tr>\n      <td>2</td>\n      <td>AAPL</td>\n      <td>2017</td>\n      <td>150.45</td>\n      <td>150.55</td>\n      <td>151.41</td>\n      <td>149.49</td>\n      <td>6811557331</td>\n      <td>AAPL2017</td>\n    </tr>\n    <tr>\n      <td>3</td>\n      <td>AAPL</td>\n      <td>2018</td>\n      <td>189.11</td>\n      <td>189.05</td>\n      <td>191.00</td>\n      <td>187.19</td>\n      <td>8523558839</td>\n      <td>AAPL2018</td>\n    </tr>\n    <tr>\n      <td>4</td>\n      <td>AAPL</td>\n      <td>2019</td>\n      <td>187.56</td>\n      <td>187.84</td>\n      <td>189.52</td>\n      <td>186.03</td>\n      <td>4759795987</td>\n      <td>AAPL2019</td>\n    </tr>\n  </tbody>\n</table>\n</div>"
     },
     "metadata": {},
     "execution_count": 34
    }
   ],
   "source": [
    "agg_stonks.head()"
   ]
  },
  {
   "cell_type": "code",
   "execution_count": 35,
   "metadata": {},
   "outputs": [],
   "source": [
    "# Import SQL Alchemy\n",
    "from sqlalchemy import create_engine\n",
    "# Import and establish Base for which classes will be constructed \n",
    "from sqlalchemy.ext.declarative import declarative_base\n",
    "# Import modules to declare columns and column data types\n",
    "from sqlalchemy import Column, Integer, String, Float# Import SQL Alchemy\n",
    "from sqlalchemy import create_engine\n",
    "# Import and establish Base for which classes will be constructed \n",
    "from sqlalchemy.ext.declarative import declarative_base\n",
    "# Import modules to declare columns and column data types\n",
    "from sqlalchemy import Column, Integer, String, Float"
   ]
  },
  {
   "cell_type": "code",
   "execution_count": 36,
   "metadata": {},
   "outputs": [],
   "source": [
    "Base = declarative_base()"
   ]
  },
  {
   "cell_type": "code",
   "execution_count": 37,
   "metadata": {},
   "outputs": [],
   "source": [
    "## We've got our dataframes, now let's create our classes\n",
    "\n",
    "class Stonks(Base):\n",
    "    __tablename__ = 'stonks'\n",
    "    name_date = Column(String(20),primary_key=True,unique=True)\n",
    "    date = Column(String(10))\n",
    "    year = Column(String(4))\n",
    "    name = Column(String(6))\n",
    "    open = Column(Integer)\n",
    "    close = Column(Integer)\n",
    "    high = Column(Integer)\n",
    "    low = Column(Integer)\n",
    "    volume = Column(Integer)\n",
    "class Amzn(Base):\n",
    "    __tablename__ = 'amazn'\n",
    "    date = Column(String(10),primary_key=True,unique=True)\n",
    "    year = Column(String(4))\n",
    "    open = Column(Integer)\n",
    "    close = Column(Integer)\n",
    "    high = Column(Integer)\n",
    "    low = Column(Integer)\n",
    "    volume = Column(Integer)\n",
    "class Fb(Base):\n",
    "    __tablename__ = 'fb'\n",
    "    date = Column(String(10),primary_key=True,unique=True)\n",
    "    year = Column(String(4))\n",
    "    open = Column(Integer)\n",
    "    close = Column(Integer)\n",
    "    high = Column(Integer)\n",
    "    low = Column(Integer)\n",
    "    volume = Column(Integer)\n",
    "class Aapl(Base):\n",
    "    __tablename__ = 'aapl'\n",
    "    date = Column(String(10),primary_key=True,unique=True)\n",
    "    year = Column(String(4))\n",
    "    open = Column(Integer)\n",
    "    close = Column(Integer)\n",
    "    high = Column(Integer)\n",
    "    low = Column(Integer)\n",
    "    volume = Column(Integer)\n",
    "class Ixic(Base):\n",
    "    __tablename__ = 'ixic'\n",
    "    date = Column(String(10),primary_key=True,unique=True)\n",
    "    year = Column(String(4))\n",
    "    open = Column(Integer)\n",
    "    close = Column(Integer)\n",
    "    high = Column(Integer)\n",
    "    low = Column(Integer)\n",
    "    volume = Column(Integer)\n",
    "class Googl(Base):\n",
    "    __tablename__ = 'googl'\n",
    "    date = Column(String(10),primary_key=True,unique=True)\n",
    "    year = Column(String(4))\n",
    "    open = Column(Integer)\n",
    "    close = Column(Integer)\n",
    "    high = Column(Integer)\n",
    "    low = Column(Integer)\n",
    "    volume = Column(Integer)\n",
    "class Msft(Base):\n",
    "    __tablename__ = 'msft'\n",
    "    date = Column(String(10),primary_key=True,unique=True)\n",
    "    year = Column(String(4))\n",
    "    open = Column(Integer)\n",
    "    close = Column(Integer)\n",
    "    high = Column(Integer)\n",
    "    low = Column(Integer)\n",
    "    volume = Column(Integer)\n",
    "class Year15(Base):\n",
    "    __tablename__ = 'year15'\n",
    "    name_date = Column(String(20),primary_key=True,unique=True)\n",
    "    date = Column(String(10))\n",
    "    name = Column(String(6))\n",
    "    open = Column(Integer)\n",
    "    close = Column(Integer)\n",
    "    high = Column(Integer)\n",
    "    low = Column(Integer)\n",
    "    volume = Column(Integer)\n",
    "class Year16(Base):\n",
    "    __tablename__ = 'year16'\n",
    "    name_date = Column(String(20),primary_key=True,unique=True)\n",
    "    date = Column(String(10))\n",
    "    name = Column(String(6))\n",
    "    open = Column(Integer)\n",
    "    close = Column(Integer)\n",
    "    high = Column(Integer)\n",
    "    low = Column(Integer)\n",
    "    volume = Column(Integer)\n",
    "class Year17(Base):\n",
    "    __tablename__ = 'year17'\n",
    "    name_date = Column(String(20),primary_key=True,unique=True)\n",
    "    date = Column(String(10))\n",
    "    name = Column(String(6))\n",
    "    open = Column(Integer)\n",
    "    close = Column(Integer)\n",
    "    high = Column(Integer)\n",
    "    low = Column(Integer)\n",
    "    volume = Column(Integer)\n",
    "class Year18(Base):\n",
    "    __tablename__ = 'year18'\n",
    "    name_date = Column(String(20),primary_key=True,unique=True)\n",
    "    date = Column(String(10))\n",
    "    name = Column(String(6))\n",
    "    open = Column(Integer)\n",
    "    close = Column(Integer)\n",
    "    high = Column(Integer)\n",
    "    low = Column(Integer)\n",
    "    volume = Column(Integer)\n",
    "class Year19(Base):\n",
    "    __tablename__ = 'year19'\n",
    "    name_date = Column(String(20),primary_key=True,unique=True)\n",
    "    date = Column(String(10))\n",
    "    name = Column(String(6))\n",
    "    open = Column(Integer)\n",
    "    close = Column(Integer)\n",
    "    high = Column(Integer)\n",
    "    low = Column(Integer)\n",
    "    volume = Column(Integer)\n",
    "class Companies(Base):\n",
    "    __tablename__ = 'companies'\n",
    "    company = Column(String(10),primary_key=True,unique=True)\n",
    "    ticker_symbol = Column(String(6))\n",
    "    founded = Column(String(15))\n",
    "    headquarters = Column(String(50))\n",
    "    revenue_2019 = Column(Integer)\n",
    "    operating_income_2019 = Column(Integer)\n",
    "    net_income_2019 = Column(Integer)\n",
    "    total_assets_2019 = Column(Integer)\n",
    "    total_equity_2019 = Column(Integer)\n",
    "    num_employees = Column(Integer)\n",
    "class Agg_stonks(Base):\n",
    "    __tablename__ = 'agg_stonks'\n",
    "    name_year = Column(String(15),primary_key=True,unique=True)\n",
    "    name = Column(String(6))\n",
    "    year = Column(String(4))\n",
    "    avg_open = Column(Integer)\n",
    "    avg_close = Column(Integer)\n",
    "    avg_high = Column(Integer)\n",
    "    avg_low = Column(Integer)\n",
    "    total_volume = Column(Integer)"
   ]
  },
  {
   "cell_type": "code",
   "execution_count": 38,
   "metadata": {},
   "outputs": [],
   "source": [
    "engine = create_engine(\"sqlite:///stonks.sqlite\")\n",
    "conn = engine.connect()"
   ]
  },
  {
   "cell_type": "code",
   "execution_count": 39,
   "metadata": {},
   "outputs": [],
   "source": [
    "Base.metadata.create_all(conn)"
   ]
  },
  {
   "cell_type": "code",
   "execution_count": 40,
   "metadata": {
    "tags": []
   },
   "outputs": [],
   "source": [
    "data = engine.execute(\"SELECT * FROM stonks LIMIT 10\")\n",
    "for data in data:\n",
    "    print(data)"
   ]
  },
  {
   "cell_type": "code",
   "execution_count": 41,
   "metadata": {},
   "outputs": [],
   "source": [
    "from sqlalchemy.orm import Session\n",
    "session = Session(bind=engine)"
   ]
  },
  {
   "cell_type": "code",
   "execution_count": 42,
   "metadata": {},
   "outputs": [],
   "source": [
    "stonks.to_sql(\"stonks\",engine,if_exists='replace')\n",
    "agg_stonks.to_sql(\"agg_stonks\",engine,if_exists='replace')\n",
    "amzn.to_sql(\"amazn\",engine,if_exists='replace')\n",
    "fb.to_sql(\"fb\",engine,if_exists='replace')\n",
    "aapl.to_sql(\"aapl\",engine,if_exists='replace')\n",
    "ixic.to_sql(\"ixic\",engine,if_exists='replace')\n",
    "googl.to_sql(\"googl\",engine,if_exists='replace')\n",
    "msft.to_sql(\"msft\",engine,if_exists='replace')\n",
    "year15.to_sql(\"year15\",engine,if_exists='replace')\n",
    "year16.to_sql(\"year16\",engine,if_exists='replace')\n",
    "year17.to_sql(\"year17\",engine,if_exists='replace')\n",
    "year18.to_sql(\"year18\",engine,if_exists='replace')\n",
    "year19.to_sql(\"year19\",engine,if_exists='replace')\n",
    "companies.to_sql(\"companies\",engine,if_exists='replace')"
   ]
  },
  {
   "cell_type": "code",
   "execution_count": 43,
   "metadata": {},
   "outputs": [
    {
     "output_type": "execute_result",
     "data": {
      "text/plain": "immutabledict({'stonks': Table('stonks', MetaData(bind=None), Column('name_date', String(length=20), table=<stonks>, primary_key=True, nullable=False), Column('date', String(length=10), table=<stonks>), Column('year', String(length=4), table=<stonks>), Column('name', String(length=6), table=<stonks>), Column('open', Integer(), table=<stonks>), Column('close', Integer(), table=<stonks>), Column('high', Integer(), table=<stonks>), Column('low', Integer(), table=<stonks>), Column('volume', Integer(), table=<stonks>), schema=None), 'amazn': Table('amazn', MetaData(bind=None), Column('date', String(length=10), table=<amazn>, primary_key=True, nullable=False), Column('year', String(length=4), table=<amazn>), Column('open', Integer(), table=<amazn>), Column('close', Integer(), table=<amazn>), Column('high', Integer(), table=<amazn>), Column('low', Integer(), table=<amazn>), Column('volume', Integer(), table=<amazn>), schema=None), 'fb': Table('fb', MetaData(bind=None), Column('date', String(length=10), table=<fb>, primary_key=True, nullable=False), Column('year', String(length=4), table=<fb>), Column('open', Integer(), table=<fb>), Column('close', Integer(), table=<fb>), Column('high', Integer(), table=<fb>), Column('low', Integer(), table=<fb>), Column('volume', Integer(), table=<fb>), schema=None), 'aapl': Table('aapl', MetaData(bind=None), Column('date', String(length=10), table=<aapl>, primary_key=True, nullable=False), Column('year', String(length=4), table=<aapl>), Column('open', Integer(), table=<aapl>), Column('close', Integer(), table=<aapl>), Column('high', Integer(), table=<aapl>), Column('low', Integer(), table=<aapl>), Column('volume', Integer(), table=<aapl>), schema=None), 'ixic': Table('ixic', MetaData(bind=None), Column('date', String(length=10), table=<ixic>, primary_key=True, nullable=False), Column('year', String(length=4), table=<ixic>), Column('open', Integer(), table=<ixic>), Column('close', Integer(), table=<ixic>), Column('high', Integer(), table=<ixic>), Column('low', Integer(), table=<ixic>), Column('volume', Integer(), table=<ixic>), schema=None), 'googl': Table('googl', MetaData(bind=None), Column('date', String(length=10), table=<googl>, primary_key=True, nullable=False), Column('year', String(length=4), table=<googl>), Column('open', Integer(), table=<googl>), Column('close', Integer(), table=<googl>), Column('high', Integer(), table=<googl>), Column('low', Integer(), table=<googl>), Column('volume', Integer(), table=<googl>), schema=None), 'msft': Table('msft', MetaData(bind=None), Column('date', String(length=10), table=<msft>, primary_key=True, nullable=False), Column('year', String(length=4), table=<msft>), Column('open', Integer(), table=<msft>), Column('close', Integer(), table=<msft>), Column('high', Integer(), table=<msft>), Column('low', Integer(), table=<msft>), Column('volume', Integer(), table=<msft>), schema=None), 'year15': Table('year15', MetaData(bind=None), Column('name_date', String(length=20), table=<year15>, primary_key=True, nullable=False), Column('date', String(length=10), table=<year15>), Column('name', String(length=6), table=<year15>), Column('open', Integer(), table=<year15>), Column('close', Integer(), table=<year15>), Column('high', Integer(), table=<year15>), Column('low', Integer(), table=<year15>), Column('volume', Integer(), table=<year15>), schema=None), 'year16': Table('year16', MetaData(bind=None), Column('name_date', String(length=20), table=<year16>, primary_key=True, nullable=False), Column('date', String(length=10), table=<year16>), Column('name', String(length=6), table=<year16>), Column('open', Integer(), table=<year16>), Column('close', Integer(), table=<year16>), Column('high', Integer(), table=<year16>), Column('low', Integer(), table=<year16>), Column('volume', Integer(), table=<year16>), schema=None), 'year17': Table('year17', MetaData(bind=None), Column('name_date', String(length=20), table=<year17>, primary_key=True, nullable=False), Column('date', String(length=10), table=<year17>), Column('name', String(length=6), table=<year17>), Column('open', Integer(), table=<year17>), Column('close', Integer(), table=<year17>), Column('high', Integer(), table=<year17>), Column('low', Integer(), table=<year17>), Column('volume', Integer(), table=<year17>), schema=None), 'year18': Table('year18', MetaData(bind=None), Column('name_date', String(length=20), table=<year18>, primary_key=True, nullable=False), Column('date', String(length=10), table=<year18>), Column('name', String(length=6), table=<year18>), Column('open', Integer(), table=<year18>), Column('close', Integer(), table=<year18>), Column('high', Integer(), table=<year18>), Column('low', Integer(), table=<year18>), Column('volume', Integer(), table=<year18>), schema=None), 'year19': Table('year19', MetaData(bind=None), Column('name_date', String(length=20), table=<year19>, primary_key=True, nullable=False), Column('date', String(length=10), table=<year19>), Column('name', String(length=6), table=<year19>), Column('open', Integer(), table=<year19>), Column('close', Integer(), table=<year19>), Column('high', Integer(), table=<year19>), Column('low', Integer(), table=<year19>), Column('volume', Integer(), table=<year19>), schema=None), 'companies': Table('companies', MetaData(bind=None), Column('company', String(length=10), table=<companies>, primary_key=True, nullable=False), Column('ticker_symbol', String(length=6), table=<companies>), Column('founded', String(length=15), table=<companies>), Column('headquarters', String(length=50), table=<companies>), Column('revenue_2019', Integer(), table=<companies>), Column('operating_income_2019', Integer(), table=<companies>), Column('net_income_2019', Integer(), table=<companies>), Column('total_assets_2019', Integer(), table=<companies>), Column('total_equity_2019', Integer(), table=<companies>), Column('num_employees', Integer(), table=<companies>), schema=None), 'agg_stonks': Table('agg_stonks', MetaData(bind=None), Column('name_year', String(length=15), table=<agg_stonks>, primary_key=True, nullable=False), Column('name', String(length=6), table=<agg_stonks>), Column('year', String(length=4), table=<agg_stonks>), Column('avg_open', Integer(), table=<agg_stonks>), Column('avg_close', Integer(), table=<agg_stonks>), Column('avg_high', Integer(), table=<agg_stonks>), Column('avg_low', Integer(), table=<agg_stonks>), Column('total_volume', Integer(), table=<agg_stonks>), schema=None)})"
     },
     "metadata": {},
     "execution_count": 43
    }
   ],
   "source": [
    "Base.metadata.tables"
   ]
  },
  {
   "cell_type": "code",
   "execution_count": null,
   "metadata": {
    "tags": []
   },
   "outputs": [],
   "source": [
    "data = engine.execute(\"SELECT * FROM companies\")\n",
    "for data in data:\n",
    "    print(data)"
   ]
  },
  {
   "cell_type": "code",
   "execution_count": null,
   "metadata": {
    "tags": []
   },
   "outputs": [],
   "source": [
    "data = engine.execute(\"SELECT * FROM stonks LIMIT 10\")\n",
    "for data in data:\n",
    "    print(data)"
   ]
  },
  {
   "cell_type": "code",
   "execution_count": null,
   "metadata": {},
   "outputs": [],
   "source": []
  }
 ],
 "metadata": {
  "language_info": {
   "codemirror_mode": {
    "name": "ipython",
    "version": 3
   },
   "file_extension": ".py",
   "mimetype": "text/x-python",
   "name": "python",
   "nbconvert_exporter": "python",
   "pygments_lexer": "ipython3",
   "version": "3.7.4-final"
  },
  "orig_nbformat": 2,
  "kernelspec": {
   "name": "python3",
   "display_name": "Python 3"
  }
 },
 "nbformat": 4,
 "nbformat_minor": 2
}
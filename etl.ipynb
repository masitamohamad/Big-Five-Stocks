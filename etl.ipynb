{
 "cells": [
  {
   "cell_type": "code",
   "execution_count": null,
   "metadata": {},
   "outputs": [],
   "source": [
    "import pandas as pd\n",
    "import datetime as dt\n",
    "import numpy as np"
   ]
  },
  {
   "cell_type": "code",
   "execution_count": null,
   "metadata": {},
   "outputs": [],
   "source": [
    "path = 'C:/Users/jakec/Documents/DataAnalyticsBootCamp/Project/Big-Five-Stocks/Resources/'\n",
    "\n",
    "raw_stock_data = pd.read_csv(f'{path}big_five_stocks.csv')\n",
    "\n",
    "raw_company_data = pd.read_csv(f'{path}company_data.csv',encoding='iso-8859-1')"
   ]
  },
  {
   "cell_type": "code",
   "execution_count": null,
   "metadata": {},
   "outputs": [],
   "source": [
    "raw_stock_data.columns = ['date','name','open','close','high','low','volume']\n",
    "# or could do the following:\n",
    "#raw_data.rename(columns={'Unnamed: 0':'date'},inplace=TRUE)"
   ]
  },
  {
   "cell_type": "code",
   "execution_count": null,
   "metadata": {},
   "outputs": [],
   "source": [
    "raw_stock_data['date'] = pd.to_datetime(raw_stock_data['date'])\n",
    "\n",
    "raw_company_data['founded'] = pd.to_datetime(raw_company_data['founded'])"
   ]
  },
  {
   "cell_type": "code",
   "execution_count": null,
   "metadata": {},
   "outputs": [],
   "source": [
    "companies = raw_company_data\n",
    "companies = companies.reset_index()\n",
    "companies['company'] = companies['index']\n",
    "companies = companies.drop(labels=['company_name','index'],axis=1)"
   ]
  },
  {
   "cell_type": "code",
   "execution_count": null,
   "metadata": {},
   "outputs": [],
   "source": [
    "raw_stock_data['year'] = pd.DatetimeIndex(raw_stock_data['date']).year"
   ]
  },
  {
   "cell_type": "code",
   "execution_count": null,
   "metadata": {},
   "outputs": [],
   "source": [
    "raw_stock_data = raw_stock_data.set_index('date')\n",
    "\n",
    "raw_company_data = raw_company_data.set_index('index')"
   ]
  },
  {
   "cell_type": "code",
   "execution_count": null,
   "metadata": {},
   "outputs": [],
   "source": [
    "#start_date = '1/1/2015'\n",
    "stonks = raw_stock_data.loc['2015-01-01':'2019-08-23']"
   ]
  },
  {
   "cell_type": "code",
   "execution_count": null,
   "metadata": {},
   "outputs": [],
   "source": [
    "stonks = stonks.reset_index()"
   ]
  },
  {
   "cell_type": "code",
   "execution_count": null,
   "metadata": {},
   "outputs": [],
   "source": [
    "#stonks.insert(loc=0,column='index',value=np.arange(len(stonks)))"
   ]
  },
  {
   "cell_type": "code",
   "execution_count": null,
   "metadata": {},
   "outputs": [],
   "source": [
    "stonks.isnull().values.any()"
   ]
  },
  {
   "cell_type": "code",
   "execution_count": null,
   "metadata": {},
   "outputs": [],
   "source": [
    "amzn = stonks.loc[stonks['name']=='AMZN',]\n",
    "#amzn = amzn.drop(labels=['name','index'],axis=1)\n",
    "amzn = amzn.drop(labels=['name'],axis=1)\n",
    "\n",
    "fb = stonks.loc[stonks['name']=='FB',]\n",
    "#fb = fb.drop(labels=['name','index'],axis=1)\n",
    "fb = fb.drop(labels=['name'],axis=1)\n",
    "\n",
    "ixic = stonks.loc[stonks['name']=='^IXIC',]\n",
    "#ixic = ixic.drop(labels=['name','index'],axis=1)\n",
    "ixic = ixic.drop(labels=['name'],axis=1)\n",
    "\n",
    "googl = stonks.loc[stonks['name']=='GOOGL',]\n",
    "#googl = googl.drop(labels=['name','index'],axis=1)\n",
    "googl = googl.drop(labels=['name'],axis=1)\n",
    "\n",
    "msft = stonks.loc[stonks['name']=='MSFT',]\n",
    "#msft = msft.drop(labels=['name','index'],axis=1)\n",
    "msft = msft.drop(labels=['name'],axis=1)\n",
    "\n",
    "aapl = stonks.loc[stonks['name']=='AAPL',]\n",
    "#aapl = aapl.drop(labels=['name','index'],axis=1)\n",
    "aapl = aapl.drop(labels=['name'],axis=1)\n",
    "\n",
    "year15 = stonks.loc[stonks['year']==2015,]\n",
    "year15 = year15.drop(labels='year',axis=1)\n",
    "\n",
    "year16 = stonks.loc[stonks['year']==2016,]\n",
    "#year16 = year16.drop(labels=['year','index'],axis=1)\n",
    "year16 = year16.drop(labels=['year'],axis=1)\n",
    "#year16.insert(loc=0,column='index',value=np.arange(len(year16)))\n",
    "\n",
    "year17 = stonks.loc[stonks['year']==2017,]\n",
    "#year17 = year17.drop(labels=['year','index'],axis=1)\n",
    "year17 = year17.drop(labels=['year'],axis=1)\n",
    "#year17.insert(loc=0,column='index',value=np.arange(len(year17)))\n",
    "\n",
    "year18 = stonks.loc[stonks['year']==2018,]\n",
    "year18 = year18.drop(labels=['year'],axis=1)\n",
    "#year18.insert(loc=0,column='index',value=np.arange(len(year18)))\n",
    "\n",
    "year19 = stonks.loc[stonks['year']==2019,]\n",
    "year19 = year19.drop(labels=['year'],axis=1)\n",
    "#year19.insert(loc=0,column='index',value=np.arange(len(year19)))"
   ]
  },
  {
   "cell_type": "code",
   "execution_count": null,
   "metadata": {},
   "outputs": [],
   "source": [
    "stonks['name_date'] = stonks['name'].astype(str) + stonks['date'].astype(str)\n",
    "year15['name_date'] = year15['name'].astype(str) + year15['date'].astype(str)\n",
    "year16['name_date'] = year15['name'].astype(str) + year16['date'].astype(str)\n",
    "year17['name_date'] = year17['name'].astype(str) + year17['date'].astype(str)\n",
    "year18['name_date'] = year18['name'].astype(str) + year18['date'].astype(str)\n",
    "year19['name_date'] = year19['name'].astype(str) + year19['date'].astype(str)"
   ]
  },
  {
   "cell_type": "code",
   "execution_count": null,
   "metadata": {},
   "outputs": [],
   "source": [
    "stonks.head()"
   ]
  },
  {
   "cell_type": "code",
   "execution_count": null,
   "metadata": {},
   "outputs": [],
   "source": [
    "amzn.head()"
   ]
  },
  {
   "cell_type": "code",
   "execution_count": null,
   "metadata": {},
   "outputs": [],
   "source": [
    "year15.head()"
   ]
  },
  {
   "cell_type": "code",
   "execution_count": null,
   "metadata": {},
   "outputs": [],
   "source": [
    "year16.head()"
   ]
  },
  {
   "cell_type": "code",
   "execution_count": null,
   "metadata": {},
   "outputs": [],
   "source": [
    "# Create the aggregate dataframe\n",
    "agg_stonks = stonks.groupby(['name','year']).agg({'open':'mean','close':'mean','high':'mean','low':'mean','volume':'sum'})\n",
    "#agg_stonks\n",
    "agg_stonks = agg_stonks.reset_index()\n",
    "agg_stonks['name_year'] = agg_stonks['name'].astype(str) + agg_stonks['year'].astype(str)\n",
    "#agg_stonks = agg_stonks.drop(labels=['name','year'],axis=1)"
   ]
  },
  {
   "cell_type": "code",
   "execution_count": null,
   "metadata": {},
   "outputs": [],
   "source": [
    "agg_stonks[['open','close','high','low']] = agg_stonks[['open','close','high','low']].round(decimals=2)"
   ]
  },
  {
   "cell_type": "code",
   "execution_count": null,
   "metadata": {},
   "outputs": [],
   "source": [
    "agg_stonks.columns = ['name','year','avg_open','avg_close','avg_high','avg_low','total_volume','name_year']"
   ]
  },
  {
   "cell_type": "code",
   "execution_count": null,
   "metadata": {},
   "outputs": [],
   "source": [
    "agg_stonks.head()"
   ]
  },
  {
   "cell_type": "code",
   "execution_count": null,
   "metadata": {},
   "outputs": [],
   "source": [
    "# Import SQL Alchemy\n",
    "from sqlalchemy import create_engine\n",
    "# Import and establish Base for which classes will be constructed \n",
    "from sqlalchemy.ext.declarative import declarative_base\n",
    "# Import modules to declare columns and column data types\n",
    "from sqlalchemy import Column, Integer, String, Float# Import SQL Alchemy\n",
    "from sqlalchemy import create_engine\n",
    "# Import and establish Base for which classes will be constructed \n",
    "from sqlalchemy.ext.declarative import declarative_base\n",
    "# Import modules to declare columns and column data types\n",
    "from sqlalchemy import Column, Integer, String, Float"
   ]
  },
  {
   "cell_type": "code",
   "execution_count": null,
   "metadata": {},
   "outputs": [],
   "source": [
    "Base = declarative_base()"
   ]
  },
  {
   "cell_type": "code",
   "execution_count": null,
   "metadata": {},
   "outputs": [],
   "source": [
    "## We've got our dataframes, now let's create our classes\n",
    "\n",
    "class Stonks(Base):\n",
    "    __tablename__ = 'stonks'\n",
    "    name_date = Column(String(20),primary_key=True,unique=True)\n",
    "    date = Column(String(10))\n",
    "    year = Column(String(4))\n",
    "    name = Column(String(6))\n",
    "    open = Column(Integer)\n",
    "    close = Column(Integer)\n",
    "    high = Column(Integer)\n",
    "    low = Column(Integer)\n",
    "    volume = Column(Integer)\n",
    "class Amzn(Base):\n",
    "    __tablename__ = 'amazn'\n",
    "    date = Column(String(10),primary_key=True,unique=True)\n",
    "    year = Column(String(4))\n",
    "    open = Column(Integer)\n",
    "    close = Column(Integer)\n",
    "    high = Column(Integer)\n",
    "    low = Column(Integer)\n",
    "    volume = Column(Integer)\n",
    "class Fb(Base):\n",
    "    __tablename__ = 'fb'\n",
    "    date = Column(String(10),primary_key=True,unique=True)\n",
    "    year = Column(String(4))\n",
    "    open = Column(Integer)\n",
    "    close = Column(Integer)\n",
    "    high = Column(Integer)\n",
    "    low = Column(Integer)\n",
    "    volume = Column(Integer)\n",
    "class Aapl(Base):\n",
    "    __tablename__ = 'aapl'\n",
    "    date = Column(String(10),primary_key=True,unique=True)\n",
    "    year = Column(String(4))\n",
    "    open = Column(Integer)\n",
    "    close = Column(Integer)\n",
    "    high = Column(Integer)\n",
    "    low = Column(Integer)\n",
    "    volume = Column(Integer)\n",
    "class Ixic(Base):\n",
    "    __tablename__ = 'ixic'\n",
    "    date = Column(String(10),primary_key=True,unique=True)\n",
    "    year = Column(String(4))\n",
    "    open = Column(Integer)\n",
    "    close = Column(Integer)\n",
    "    high = Column(Integer)\n",
    "    low = Column(Integer)\n",
    "    volume = Column(Integer)\n",
    "class Googl(Base):\n",
    "    __tablename__ = 'googl'\n",
    "    date = Column(String(10),primary_key=True,unique=True)\n",
    "    year = Column(String(4))\n",
    "    open = Column(Integer)\n",
    "    close = Column(Integer)\n",
    "    high = Column(Integer)\n",
    "    low = Column(Integer)\n",
    "    volume = Column(Integer)\n",
    "class Msft(Base):\n",
    "    __tablename__ = 'msft'\n",
    "    date = Column(String(10),primary_key=True,unique=True)\n",
    "    year = Column(String(4))\n",
    "    open = Column(Integer)\n",
    "    close = Column(Integer)\n",
    "    high = Column(Integer)\n",
    "    low = Column(Integer)\n",
    "    volume = Column(Integer)\n",
    "class Year15(Base):\n",
    "    __tablename__ = 'year15'\n",
    "    name_date = Column(String(20),primary_key=True,unique=True)\n",
    "    date = Column(String(10))\n",
    "    name = Column(String(6))\n",
    "    open = Column(Integer)\n",
    "    close = Column(Integer)\n",
    "    high = Column(Integer)\n",
    "    low = Column(Integer)\n",
    "    volume = Column(Integer)\n",
    "class Year16(Base):\n",
    "    __tablename__ = 'year16'\n",
    "    name_date = Column(String(20),primary_key=True,unique=True)\n",
    "    date = Column(String(10))\n",
    "    name = Column(String(6))\n",
    "    open = Column(Integer)\n",
    "    close = Column(Integer)\n",
    "    high = Column(Integer)\n",
    "    low = Column(Integer)\n",
    "    volume = Column(Integer)\n",
    "class Year17(Base):\n",
    "    __tablename__ = 'year17'\n",
    "    name_date = Column(String(20),primary_key=True,unique=True)\n",
    "    date = Column(String(10))\n",
    "    name = Column(String(6))\n",
    "    open = Column(Integer)\n",
    "    close = Column(Integer)\n",
    "    high = Column(Integer)\n",
    "    low = Column(Integer)\n",
    "    volume = Column(Integer)\n",
    "class Year18(Base):\n",
    "    __tablename__ = 'year18'\n",
    "    name_date = Column(String(20),primary_key=True,unique=True)\n",
    "    date = Column(String(10))\n",
    "    name = Column(String(6))\n",
    "    open = Column(Integer)\n",
    "    close = Column(Integer)\n",
    "    high = Column(Integer)\n",
    "    low = Column(Integer)\n",
    "    volume = Column(Integer)\n",
    "class Year19(Base):\n",
    "    __tablename__ = 'year19'\n",
    "    name_date = Column(String(20),primary_key=True,unique=True)\n",
    "    date = Column(String(10))\n",
    "    name = Column(String(6))\n",
    "    open = Column(Integer)\n",
    "    close = Column(Integer)\n",
    "    high = Column(Integer)\n",
    "    low = Column(Integer)\n",
    "    volume = Column(Integer)\n",
    "class Companies(Base):\n",
    "    __tablename__ = 'companies'\n",
    "    company = Column(String(10),primary_key=True,unique=True)\n",
    "    ticker_symbol = Column(String(6))\n",
    "    founded = Column(String(15))\n",
    "    headquarters = Column(String(50))\n",
    "    revenue_2019 = Column(Integer)\n",
    "    operating_income_2019 = Column(Integer)\n",
    "    net_income_2019 = Column(Integer)\n",
    "    total_assets_2019 = Column(Integer)\n",
    "    total_equity_2019 = Column(Integer)\n",
    "    num_employees = Column(Integer)\n",
    "class Agg_stonks(Base):\n",
    "    __tablename__ = 'agg_stonks'\n",
    "    name_year = Column(String(15),primary_key=True,unique=True)\n",
    "    name = Column(String(6))\n",
    "    year = Column(String(4))\n",
    "    avg_open = Column(Integer)\n",
    "    avg_close = Column(Integer)\n",
    "    avg_high = Column(Integer)\n",
    "    avg_low = Column(Integer)\n",
    "    total_volume = Column(Integer)"
   ]
  },
  {
   "cell_type": "code",
   "execution_count": null,
   "metadata": {},
   "outputs": [],
   "source": [
    "engine = create_engine(\"sqlite:///stonks.sqlite\")\n",
    "conn = engine.connect()"
   ]
  },
  {
   "cell_type": "code",
   "execution_count": null,
   "metadata": {},
   "outputs": [],
   "source": [
    "Base.metadata.create_all(conn)"
   ]
  },
  {
   "cell_type": "code",
   "execution_count": null,
   "metadata": {
    "tags": []
   },
   "outputs": [],
   "source": [
    "data = engine.execute(\"SELECT * FROM stonks LIMIT 10\")\n",
    "for data in data:\n",
    "    print(data)"
   ]
  },
  {
   "cell_type": "code",
   "execution_count": null,
   "metadata": {},
   "outputs": [],
   "source": [
    "from sqlalchemy.orm import Session\n",
    "session = Session(bind=engine)"
   ]
  },
  {
   "cell_type": "code",
   "execution_count": null,
   "metadata": {},
   "outputs": [],
   "source": [
    "stonks.to_sql(\"stonks\",engine,if_exists='replace')\n",
    "agg_stonks.to_sql(\"agg_stonks\",engine,if_exists='replace')\n",
    "amzn.to_sql(\"amazn\",engine,if_exists='replace')\n",
    "fb.to_sql(\"fb\",engine,if_exists='replace')\n",
    "aapl.to_sql(\"aapl\",engine,if_exists='replace')\n",
    "ixic.to_sql(\"ixic\",engine,if_exists='replace')\n",
    "googl.to_sql(\"googl\",engine,if_exists='replace')\n",
    "msft.to_sql(\"msft\",engine,if_exists='replace')\n",
    "year15.to_sql(\"year15\",engine,if_exists='replace')\n",
    "year16.to_sql(\"year16\",engine,if_exists='replace')\n",
    "year17.to_sql(\"year17\",engine,if_exists='replace')\n",
    "year18.to_sql(\"year18\",engine,if_exists='replace')\n",
    "year19.to_sql(\"year19\",engine,if_exists='replace')\n",
    "companies.to_sql(\"companies\",engine,if_exists='replace')"
   ]
  },
  {
   "cell_type": "code",
   "execution_count": null,
   "metadata": {},
   "outputs": [],
   "source": [
    "Base.metadata.tables"
   ]
  },
  {
   "cell_type": "code",
   "execution_count": null,
   "metadata": {
    "tags": []
   },
   "outputs": [],
   "source": [
    "data = engine.execute(\"SELECT * FROM companies\")\n",
    "for data in data:\n",
    "    print(data)"
   ]
  },
  {
   "cell_type": "code",
   "execution_count": null,
   "metadata": {
    "tags": []
   },
   "outputs": [],
   "source": [
    "data = engine.execute(\"SELECT * FROM stonks LIMIT 10\")\n",
    "for data in data:\n",
    "    print(data)"
   ]
  },
  {
   "cell_type": "code",
   "execution_count": null,
   "metadata": {},
   "outputs": [],
   "source": []
  }
 ],
 "metadata": {
  "language_info": {
   "codemirror_mode": {
    "name": "ipython",
    "version": 3
   },
   "file_extension": ".py",
   "mimetype": "text/x-python",
   "name": "python",
   "nbconvert_exporter": "python",
   "pygments_lexer": "ipython3",
   "version": "3.7.4-final"
  },
  "orig_nbformat": 2,
  "kernelspec": {
   "name": "python3",
   "display_name": "Python 3"
  }
 },
 "nbformat": 4,
 "nbformat_minor": 2
}
{
 "cells": [
  {
   "cell_type": "code",
   "execution_count": 24,
   "metadata": {},
   "outputs": [],
   "source": [
    "from bs4 import BeautifulSoup as bs \n",
    "import requests"
   ]
  },
  {
   "cell_type": "markdown",
   "metadata": {},
   "source": [
    "## Latest Financial News Scrape "
   ]
  },
  {
   "cell_type": "code",
   "execution_count": 25,
   "metadata": {},
   "outputs": [],
   "source": [
    "# Send a GET request, convert the HTML to plain text and store that in 'response'.\n",
    "response = requests.get(\"https://www.cnbc.com/\").text"
   ]
  },
  {
   "cell_type": "code",
   "execution_count": 26,
   "metadata": {
    "tags": []
   },
   "outputs": [],
   "source": [
    "# Create BeautifulSoup object; parse with 'html.parser'\n",
    "soup = bs(response, 'html.parser')"
   ]
  },
  {
   "cell_type": "code",
   "execution_count": 27,
   "metadata": {},
   "outputs": [
    {
     "output_type": "execute_result",
     "data": {
      "text/plain": "'Co-founder of Indian TikTok rival says his firm will never accept Chinese investments '"
     },
     "metadata": {},
     "execution_count": 27
    }
   ],
   "source": [
    "# Extract HTML structure from parent element\n",
    "news_parent = soup.find_all('div', class_='LatestNews-headline')\n",
    "\n",
    "# Preview the first result in the list\n",
    "news_parent[0].text"
   ]
  },
  {
   "cell_type": "code",
   "execution_count": 28,
   "metadata": {
    "tags": []
   },
   "outputs": [
    {
     "output_type": "stream",
     "name": "stdout",
     "text": "['Co-founder of Indian TikTok rival says his firm will never accept Chinese investments ', 'China stocks continue to lead gains among Asia Pacific markets ', \"It's too soon to rule out another economic shutdown, Invesco's Kristina Hooper warns \", \"Taylor Morrison CEO sees 'strongest' home sales in coronavirus hot-spot states \", 'Ivy League cancels football and other fall sports due to Covid-19 ', 'ViacomCBS will begin streaming UEFA Champions League matches in August ', 'Stock futures steady after Nasdaq clinches new record ', 'Stocks making the biggest moves after hours: Bed Bath & Beyond, NIO, Costco and more ', \"Houston Rockets owner's online betting company is now trading on Nasdaq \", \"Ex-Facebook exec: Facebook would be in 'better shape' by adopting warning labels \", 'Bed Bath & Beyond sales fall almost 50% during pandemic, to close 200 stores ', \"Pritzker says states were forced compete in 'sick Hunger Games' competition \", 'Amazon pulls Washington Redskins merchandise ', \"Fed's Bullard sees unemployment falling to as low as 7% this year \", \"Here's what happened to the stock market on Wednesday \", 'You only have a few days left to make 2019 contributions to your IRA ', 'Watch Healthy Returns: The path forward ', 'Two-thirds of laid off workers eligible for benefits that exceed their wages ', \"Since the pandemic started, only a third of women's lost jobs have returned \", 'Facebook shuts down misinformation network tied to GOP operative Roger Stone ', \"Mike Santoli's market notes: Growth dominance, Buffett's great Apple investment \", 'Black-owned businesses report boost in sales and interest on Blackout Day ', \"'Medigap' insurance covers some Medicare costs. How to choose a plan \", 'Former Fox News anchor Shepard Smith joins CNBC with new evening show ', \"Why this glacier in the Alps turned pink with 'watermelon' snow — take a look \", 'Pompeo takes aim at Chinese tech firms over data theft concerns ', 'Covid-19 hit July 4th travel harder in some states, study finds ', \"CDC director says there's no data children drive coronavirus spread \", \"Wendy's franchisee allegedly spent $1 million of PPP funding to finance home \", \"What life for NBA players will look like inside the 'Disney World bubble' \"]\n"
    }
   ],
   "source": [
    "news_headline = []\n",
    "for news in news_parent:\n",
    "\n",
    "    news_headline.append(news.text)\n",
    "\n",
    "print(news_headline)"
   ]
  },
  {
   "cell_type": "code",
   "execution_count": 29,
   "metadata": {},
   "outputs": [
    {
     "output_type": "execute_result",
     "data": {
      "text/plain": "'2 Hours Ago'"
     },
     "metadata": {},
     "execution_count": 29
    }
   ],
   "source": [
    "timestamp_parent = soup.find_all('div', class_='LatestNews-timestamp')\n",
    "timestamp_parent[0].text"
   ]
  },
  {
   "cell_type": "code",
   "execution_count": 30,
   "metadata": {
    "tags": []
   },
   "outputs": [
    {
     "output_type": "stream",
     "name": "stdout",
     "text": "['2 Hours Ago', '3 Hours Ago', '3 Hours Ago', '3 Hours Ago', '4 Hours Ago', '4 Hours Ago', '4 Hours Ago', '5 Hours Ago', '5 Hours Ago', '5 Hours Ago', '6 Hours Ago', '6 Hours Ago', '6 Hours Ago', '6 Hours Ago', '6 Hours Ago', '6 Hours Ago', '6 Hours Ago', '7 Hours Ago', '7 Hours Ago', '7 Hours Ago', '7 Hours Ago', '7 Hours Ago', '8 Hours Ago', '8 Hours Ago', '8 Hours Ago', '8 Hours Ago', '8 Hours Ago', '8 Hours Ago', '8 Hours Ago', '8 Hours Ago']\n"
    }
   ],
   "source": [
    "news_timestamp = []\n",
    "for time in timestamp_parent:\n",
    "\n",
    "    news_timestamp.append(time.text)\n",
    "\n",
    "print(news_timestamp)"
   ]
  },
  {
   "cell_type": "code",
   "execution_count": 31,
   "metadata": {},
   "outputs": [
    {
     "output_type": "execute_result",
     "data": {
      "text/plain": "['2 Hours Ago Co-founder of Indian TikTok rival says his firm will never accept Chinese investments ',\n '3 Hours Ago China stocks continue to lead gains among Asia Pacific markets ',\n \"3 Hours Ago It's too soon to rule out another economic shutdown, Invesco's Kristina Hooper warns \",\n \"3 Hours Ago Taylor Morrison CEO sees 'strongest' home sales in coronavirus hot-spot states \",\n '4 Hours Ago Ivy League cancels football and other fall sports due to Covid-19 ',\n '4 Hours Ago ViacomCBS will begin streaming UEFA Champions League matches in August ',\n '4 Hours Ago Stock futures steady after Nasdaq clinches new record ',\n '5 Hours Ago Stocks making the biggest moves after hours: Bed Bath & Beyond, NIO, Costco and more ',\n \"5 Hours Ago Houston Rockets owner's online betting company is now trading on Nasdaq \",\n \"5 Hours Ago Ex-Facebook exec: Facebook would be in 'better shape' by adopting warning labels \",\n '6 Hours Ago Bed Bath & Beyond sales fall almost 50% during pandemic, to close 200 stores ',\n \"6 Hours Ago Pritzker says states were forced compete in 'sick Hunger Games' competition \",\n '6 Hours Ago Amazon pulls Washington Redskins merchandise ',\n \"6 Hours Ago Fed's Bullard sees unemployment falling to as low as 7% this year \",\n \"6 Hours Ago Here's what happened to the stock market on Wednesday \",\n '6 Hours Ago You only have a few days left to make 2019 contributions to your IRA ',\n '6 Hours Ago Watch Healthy Returns: The path forward ',\n '7 Hours Ago Two-thirds of laid off workers eligible for benefits that exceed their wages ',\n \"7 Hours Ago Since the pandemic started, only a third of women's lost jobs have returned \",\n '7 Hours Ago Facebook shuts down misinformation network tied to GOP operative Roger Stone ',\n \"7 Hours Ago Mike Santoli's market notes: Growth dominance, Buffett's great Apple investment \",\n '7 Hours Ago Black-owned businesses report boost in sales and interest on Blackout Day ',\n \"8 Hours Ago 'Medigap' insurance covers some Medicare costs. How to choose a plan \",\n '8 Hours Ago Former Fox News anchor Shepard Smith joins CNBC with new evening show ',\n \"8 Hours Ago Why this glacier in the Alps turned pink with 'watermelon' snow — take a look \",\n '8 Hours Ago Pompeo takes aim at Chinese tech firms over data theft concerns ',\n '8 Hours Ago Covid-19 hit July 4th travel harder in some states, study finds ',\n \"8 Hours Ago CDC director says there's no data children drive coronavirus spread \",\n \"8 Hours Ago Wendy's franchisee allegedly spent $1 million of PPP funding to finance home \",\n \"8 Hours Ago What life for NBA players will look like inside the 'Disney World bubble' \"]"
     },
     "metadata": {},
     "execution_count": 31
    }
   ],
   "source": [
    "joined_lists = [' '.join(x) for x in zip(news_timestamp,news_headline)]\n",
    "joined_lists"
   ]
  },
  {
   "cell_type": "code",
   "execution_count": null,
   "metadata": {},
   "outputs": [],
   "source": []
  }
 ],
 "metadata": {
  "language_info": {
   "codemirror_mode": {
    "name": "ipython",
    "version": 3
   },
   "file_extension": ".py",
   "mimetype": "text/x-python",
   "name": "python",
   "nbconvert_exporter": "python",
   "pygments_lexer": "ipython3",
   "version": "3.7.4-final"
  },
  "orig_nbformat": 2,
  "kernelspec": {
   "name": "python3",
   "display_name": "Python 3"
  }
 },
 "nbformat": 4,
 "nbformat_minor": 2
}